{
 "cells": [
  {
   "cell_type": "markdown",
   "metadata": {},
   "source": [
    "## NASA Project"
   ]
  },
  {
   "cell_type": "markdown",
   "metadata": {},
   "source": [
    "Write a simple server providing a web page that takes two date arguments and retrieves the list of near-Earth space objects approaching Earth in that time interval. Display the list of the objects, sorted by their closest approach distance, in an aligned tabular format, the object name, size estimate, time and distance of the closest encounter. \n",
    "\n",
    "The data should come from the API of NeoWs service at https://api.nasa.gov/ (free registration required)."
   ]
  },
  {
   "cell_type": "code",
   "execution_count": null,
   "metadata": {},
   "outputs": [],
   "source": [
    "# Import libraries\n",
    "import requests\n",
    "from urllib.request import urlretrieve\n",
    "from pprint import PrettyPrinter\n",
    "import pandas as pd\n",
    "import numpy as np"
   ]
  },
  {
   "cell_type": "code",
   "execution_count": null,
   "metadata": {},
   "outputs": [],
   "source": [
    "# Enter a date for your search in format YYYY-MM-DD (e.g. 2022-08-05, 2022-08-10)\n",
    "date_1 = str(input())\n",
    "date_2 = str(input())"
   ]
  },
  {
   "cell_type": "code",
   "execution_count": null,
   "metadata": {},
   "outputs": [],
   "source": [
    "def nasa_neows():\n",
    "    \"\"\"The function that connects to the Nasa NeoWs API and returns data for the selected period\"\"\"\n",
    "    api_key = 'cevb1Xr36zg0XJAK1is9cLIxK5cq9lW4dUw6eZcf'\n",
    "    URL_NeoFeed = \"https://api.nasa.gov/neo/rest/v1/feed\"\n",
    "    params = {\n",
    "        'api_key':api_key,\n",
    "        'start_date':date_1,\n",
    "        'end_date':date_2\n",
    "    }\n",
    "    response = requests.get(URL_NeoFeed,params=params).json()\n",
    "    return response"
   ]
  },
  {
   "cell_type": "code",
   "execution_count": null,
   "metadata": {},
   "outputs": [],
   "source": [
    "object_data = nasa_neows()"
   ]
  },
  {
   "cell_type": "code",
   "execution_count": null,
   "metadata": {},
   "outputs": [],
   "source": [
    "def data_extraction():\n",
    "    \"\"\"The function that processes the response data from the API and extracts the required information from the dictionary\"\"\"\n",
    "    data_values = pd.DataFrame()\n",
    "    for key, values in object_data[\"near_earth_objects\"].items():\n",
    "        for i in values:\n",
    "            name = {key: i[\"name\"]} \n",
    "            diameter = {key: i[\"estimated_diameter\"][\"kilometers\"][\"estimated_diameter_max\"]}\n",
    "            date_full = {key: i[\"close_approach_data\"][0][\"close_approach_date_full\"]}\n",
    "            miss_distance = {key: i[\"close_approach_data\"][0][\"miss_distance\"][\"astronomical\"]}\n",
    "            empty_df = pd.DataFrame()\n",
    "            empty_df[\"name\"] = (list(name.values()))\n",
    "            empty_df[\"diameter\"] = list(diameter.values())\n",
    "            empty_df[\"date_full\"] = list(date_full.values())\n",
    "            empty_df[\"miss_distance\"] = list(miss_distance.values())\n",
    "            data_values = data_values.append(empty_df)\n",
    "    return data_values"
   ]
  },
  {
   "cell_type": "code",
   "execution_count": null,
   "metadata": {},
   "outputs": [],
   "source": [
    "data_values = data_extraction()"
   ]
  },
  {
   "cell_type": "markdown",
   "metadata": {},
   "source": [
    "#### Convert data to desired format"
   ]
  },
  {
   "cell_type": "code",
   "execution_count": null,
   "metadata": {},
   "outputs": [],
   "source": [
    "data_values[\"date_full\"] = pd.to_datetime(data_values[\"date_full\"])"
   ]
  },
  {
   "cell_type": "code",
   "execution_count": null,
   "metadata": {},
   "outputs": [],
   "source": [
    "data_values[\"miss_distance\"] = pd.to_numeric(data_values[\"miss_distance\"])"
   ]
  },
  {
   "cell_type": "code",
   "execution_count": null,
   "metadata": {},
   "outputs": [],
   "source": [
    "data_values.sort_values(by=[\"miss_distance\"], inplace=True)"
   ]
  },
  {
   "cell_type": "code",
   "execution_count": null,
   "metadata": {},
   "outputs": [],
   "source": [
    "data_values.index = np.arange(1, len(data_values) + 1)"
   ]
  },
  {
   "cell_type": "code",
   "execution_count": null,
   "metadata": {},
   "outputs": [],
   "source": [
    "data_values.head()"
   ]
  },
  {
   "cell_type": "markdown",
   "metadata": {},
   "source": [
    "## Conclusion"
   ]
  },
  {
   "cell_type": "markdown",
   "metadata": {},
   "source": [
    "We created a NASA project that takes data from NASA's website. This data is then processed and filtered for objects that were closest to Earth (astronomical distance) during the selected time period."
   ]
  }
 ],
 "metadata": {
  "kernelspec": {
   "display_name": "Python 3",
   "language": "python",
   "name": "python3"
  },
  "language_info": {
   "codemirror_mode": {
    "name": "ipython",
    "version": 3
   },
   "file_extension": ".py",
   "mimetype": "text/x-python",
   "name": "python",
   "nbconvert_exporter": "python",
   "pygments_lexer": "ipython3",
   "version": "3.7.4"
  }
 },
 "nbformat": 4,
 "nbformat_minor": 2
}
